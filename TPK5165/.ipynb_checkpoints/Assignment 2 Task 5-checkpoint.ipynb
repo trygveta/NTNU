{
 "cells": [
  {
   "cell_type": "code",
   "execution_count": 50,
   "id": "6b0987a1",
   "metadata": {},
   "outputs": [
    {
     "name": "stdout",
     "output_type": "stream",
     "text": [
      "Predicted MTTF running 12V is: 57.0 hours\n"
     ]
    },
    {
     "data": {
      "image/png": "[encoded data removed]",
      "text/plain": [
       "<Figure size 432x288 with 1 Axes>"
      ]
     },
     "metadata": {
      "needs_background": "light"
     },
     "output_type": "display_data"
    }
   ],
   "source": [
    "import matplotlib.pyplot as plt\n",
    "from sklearn.linear_model import LinearRegression\n",
    "import math as math\n",
    "import numpy as np\n",
    "\n",
    "X = [16,20,24,28,32]\n",
    "x = np.array(X+X+X).reshape(-1,1)\n",
    "Y1 = [31.4,18.7,11.8,6.6,4.7]\n",
    "Y2 = [35.9,22.2,14.2,7.1,4.9]\n",
    "Y3 = [35.9,23.1,14.1,7.5,5.1]\n",
    "y = np.array(list(map(math.log, Y1+Y2+Y3))).reshape(-1,1)\n",
    "\n",
    "reg = LinearRegression().fit(x, y)\n",
    "predictons = list(map(math.exp, reg.predict(np.array(X).reshape(-1,1))))\n",
    "prediction_12 = math.exp(reg.predict([[12]]))\n",
    "\n",
    "print('Predicted MTTF running 12V is:', round(prediction_12,1), 'hours')\n",
    "\n",
    "plt.plot(X,Y1,'b.')\n",
    "plt.plot(X,Y2,'b.')\n",
    "plt.plot(X,Y3,'b.')\n",
    "plt.plot(X, predictons, 'r.-')\n",
    "plt.xlabel('Volt')\n",
    "plt.ylabel('MTTF')\n",
    "plt.show()\n"
   ]
  },
  {
   "cell_type": "code",
   "execution_count": null,
   "id": "eb14c7bd",
   "metadata": {},
   "outputs": [],
   "source": []
  }
 ],
 "metadata": {
  "kernelspec": {
   "display_name": "Python 3 (ipykernel)",
   "language": "python",
   "name": "python3"
  },
  "language_info": {
   "codemirror_mode": {
    "name": "ipython",
    "version": 3
   },
   "file_extension": ".py",
   "mimetype": "text/x-python",
   "name": "python",
   "nbconvert_exporter": "python",
   "pygments_lexer": "ipython3",
   "version": "3.8.8"
  }
 },
 "nbformat": 4,
 "nbformat_minor": 5
}
